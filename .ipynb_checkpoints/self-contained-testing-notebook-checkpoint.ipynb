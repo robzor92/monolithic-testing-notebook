{
 "cells": [
  {
   "cell_type": "markdown",
   "metadata": {},
   "source": [
    "Test Custom Experiment"
   ]
  },
  {
   "cell_type": "code",
   "execution_count": 17,
   "metadata": {},
   "outputs": [
    {
     "name": "stdout",
     "output_type": "stream",
     "text": [
      "hdfs://10.0.2.15:8020/Projects/demo_deep_learning_admin000/Experiments/application_1540923342424_0020/begin/run.3/\n",
      "/srv/hops/hopsdata/tmp/nm-local-dir/usercache/6rleftXNS7jE4GPq0aancNC_IQkiuF3dRnRBytwdAR4/appcache/application_1540923342424_0020/container_e01_1540923342424_0020_01_000001/local_logdir/"
     ]
    }
   ],
   "source": [
    "from hops import experiment\n",
    "\n",
    "experiment.begin(name='some custom thing 1', local_logdir=False)\n",
    "from hops import tensorboard\n",
    "print(tensorboard.logdir())\n",
    "assert tensorboard.logdir() != None\n",
    "pi = 1+3+0.14\n",
    "experiment.end(pi)\n",
    "\n",
    "experiment.begin(name='some custom thing 2', local_logdir=True, description='i am making custom exp on hops')\n",
    "from hops import tensorboard\n",
    "print(tensorboard.logdir())\n",
    "assert tensorboard.logdir() != None\n",
    "pi = 1337\n",
    "experiment.end(pi)"
   ]
  },
  {
   "cell_type": "markdown",
   "metadata": {},
   "source": [
    "Test Experiment"
   ]
  },
  {
   "cell_type": "code",
   "execution_count": 18,
   "metadata": {},
   "outputs": [],
   "source": [
    "def wrapper():\n",
    "    from hops import tensorboard\n",
    "    assert tensorboard.logdir() != None\n",
    "    from hops import devices\n",
    "    assert devices.get_num_gpus() >= 0\n",
    "    from hops import hdfs\n",
    "    assert hdfs.project_path() == hdfs.project_path(hdfs.project_name())"
   ]
  },
  {
   "cell_type": "code",
   "execution_count": 19,
   "metadata": {},
   "outputs": [
    {
     "name": "stdout",
     "output_type": "stream",
     "text": [
      "Finished Experiment \n",
      "\n",
      "Finished Experiment \n",
      "\n",
      "Finished Experiment \n",
      "\n",
      "Finished Experiment \n",
      "\n",
      "'hdfs://10.0.2.15:8020/Projects/demo_deep_learning_admin000/Experiments/application_1540923342424_0020/launcher/run.20'"
     ]
    }
   ],
   "source": [
    "from hops import experiment\n",
    "\n",
    "experiment.launch(wrapper)\n",
    "experiment.launch(wrapper, name='simple exp')\n",
    "experiment.launch(wrapper, local_logdir=True)\n",
    "experiment.launch(wrapper, description='very interesting description', local_logdir=False)"
   ]
  },
  {
   "cell_type": "markdown",
   "metadata": {},
   "source": [
    "Test Parallel Experiment"
   ]
  },
  {
   "cell_type": "code",
   "execution_count": null,
   "metadata": {},
   "outputs": [],
   "source": [
    "def parameter_wrapper(a, b):\n",
    "    from hops import tensorboard\n",
    "    assert tensorboard.logdir() != None\n",
    "    from hops import devices\n",
    "    assert devices.get_num_gpus() >= 0\n",
    "    return a + b\n",
    "\n",
    "args_dict = {'a': [1,99], 'b': [-30,29]}\n",
    "\n",
    "experiment.launch(parameter_wrapper, args_dict)\n",
    "experiment.launch(parameter_wrapper, args_dict,  name='simple exp')\n",
    "experiment.launch(parameter_wrapper, args_dict, local_logdir=True)\n",
    "experiment.launch(parameter_wrapper, args_dict, description='very interesting description', local_logdir=False)\n",
    "\n",
    "experiment.grid_search(parameter_wrapper, args_dict)\n",
    "experiment.grid_search(parameter_wrapper, args_dict, direction='max', name='test')\n",
    "experiment.grid_search(parameter_wrapper, args_dict, direction='max', name='test', local_logdir=True)\n",
    "\n",
    "experiment.random_search(parameter_wrapper, args_dict)\n",
    "experiment.random_search(parameter_wrapper, args_dict, direction='max', name='test')\n",
    "experiment.random_search(parameter_wrapper, args_dict, direction='min', samples=30, name='test', local_logdir=True)\n",
    "\n",
    "logdir, result_dict = experiment.differential_evolution(parameter_wrapper, args_dict, generations=12, local_logdir=True, direction='max')\n",
    "assert int(result_dict['a']) == 99 and int(result_dict['b']) == 29, \"assert 1 -> a=\" + str(result_dict['a']) + \" b=\" + str(result_dict['b'])\n",
    "\n",
    "logdir, result_dict = experiment.differential_evolution(parameter_wrapper, args_dict, population=30, direction='min')\n",
    "assert int(result_dict['a']) == 1 and int(result_dict['b']) == -30, \"assert 2 -> a=\" + str(result_dict['a']) + \" b=\" + str(result_dict['b'])\n",
    "\n",
    "logdir, result_dict = experiment.differential_evolution(parameter_wrapper, args_dict, generations=5, population=30)\n",
    "assert int(result_dict['a']) == 99 and int(result_dict['b']) == 29, \"assert 3 -> a=\" + str(result_dict['a']) + \" b=\" + str(result_dict['b'])"
   ]
  },
  {
   "cell_type": "markdown",
   "metadata": {},
   "source": [
    "Test HopsFS operations"
   ]
  },
  {
   "cell_type": "code",
   "execution_count": null,
   "metadata": {},
   "outputs": [],
   "source": [
    "from hops import hdfs\n",
    "project_user = hdfs.project_user()\n",
    "project_name = hdfs.project_name()\n",
    "project_path = hdfs.project_path()\n",
    "print(\"project user: {}\\nproject name: {}\\nproject path: {}\".format(project_user, project_name, project_path))\n",
    "logs_README = hdfs.load(\"Logs/README.md\")\n",
    "print(\"logs README: {}\".format(logs_README.decode(\"utf-8\")))\n",
    "hdfs.dump(\"test\", \"Logs/README_dump_test.md\")\n",
    "logs_README_dumped = hdfs.load(\"Logs/README_dump_test.md\")\n",
    "print(\"logs README dumped: {}\".format(logs_README_dumped.decode(\"utf-8\")))\n",
    "# creates file in current working directory with a string\n",
    "with open('test.txt', 'w') as f:\n",
    "    f.write(\"test\")\n",
    "hdfs.copy_to_hdfs(\"test.txt\", \"Resources\", overwrite=True)\n",
    "hdfs.copy_to_local(\"Resources/test.txt\", \"\", overwrite=True)\n",
    "hdfs_copied_file = hdfs.load(\"Resources/test.txt\")\n",
    "with open('test.txt', 'r') as f:\n",
    "    local_copied_file = f.read()\n",
    "print(\"copied file from local to hdfs: {}\".format(hdfs_copied_file.decode(\"utf-8\")))\n",
    "print(\"copied file from hdfs to local: {}\".format(local_copied_file))\n",
    "logs_files = hdfs.ls(\"Logs/\")\n",
    "print(logs_files)\n",
    "logs_files_md = hdfs.glob(\"Logs/*.md\")\n",
    "print(logs_files_md)\n",
    "logs_path_names = hdfs.lsl(\"Logs/\")\n",
    "print(logs_path_names)\n",
    "hdfs.cp(\"Resources/test.txt\", \"Logs/\")\n",
    "logs_files = hdfs.ls(\"Logs/\")\n",
    "print(logs_files)\n",
    "hdfs.mkdir(\"Logs/test_dir\")\n",
    "logs_files_prior_delete = hdfs.ls(\"Logs/\")\n",
    "print(\"files prior to delete: {}\".format(logs_files_prior_delete))\n",
    "hdfs.rmr(\"Logs/test_dir\")\n",
    "logs_files_after_delete = hdfs.ls(\"Logs/\")\n",
    "print(\"files after to delete: {}\".format(logs_files_after_delete))\n",
    "logs_files_prior_move = hdfs.ls(\"Logs/\")\n",
    "print(\"files prior to move: {}\".format(logs_files_prior_move))\n",
    "hdfs.move(\"Logs/README_dump_test.md\", \"Logs/README_dump_test2.md\")\n",
    "logs_files_after_move = hdfs.ls(\"Logs/\")\n",
    "print(\"files after move: {}\".format(logs_files_after_move))\n",
    "logs_files_prior_rename = hdfs.ls(\"Logs/\")\n",
    "print(\"files prior to rename: {}\".format(logs_files_prior_rename))\n",
    "hdfs.rename(\"Logs/README_dump_test2.md\", \"Logs/README_dump_test.md\")\n",
    "logs_files_after_rename = hdfs.ls(\"Logs/\")\n",
    "print(\"files after move: {}\".format(logs_files_after_rename))\n",
    "import stat\n",
    "file_stat = hdfs.stat(\"Logs/README.md\")\n",
    "print(\"file permissions prior to chmod: {0:b}\".format(file_stat.st_mode))\n",
    "hdfs.chmod(\"Logs/README.md\", 700)\n",
    "file_stat = hdfs.stat(\"Logs/README.md\")\n",
    "print(\"file permissions after to chmod: {0:b}\".format(file_stat.st_mode))\n",
    "hdfs.chmod(\"Logs/README.md\", 777)\n",
    "file_owner = file_stat.st_uid\n",
    "#print(\"file owner prior to chown: {}\".format(file_owner))\n",
    "#hdfs.chown(\"Logs/README.md\", \"meb10000\", \"meb10000\")\n",
    "file_stat = hdfs.stat(\"Logs/README.md\")\n",
    "print(\"file_stat: {}\".format(file_stat))\n",
    "file_access = hdfs.access(\"Logs/README.md\", 777)\n",
    "print(\"file access: {}\".format(file_access))\n",
    "abs_path = hdfs.abs_path(\"Logs/\")\n",
    "print(abs_path)\n",
    "hdfs.exists(\"Logs/\")\n",
    "hdfs.exists(\"Not_Existing/neither_am_i\")"
   ]
  },
  {
   "cell_type": "markdown",
   "metadata": {},
   "source": [
    "Test Distributed Training MirroredStrategy (This may fail if not configured MirroredStrategy)"
   ]
  },
  {
   "cell_type": "code",
   "execution_count": null,
   "metadata": {},
   "outputs": [],
   "source": [
    "def mirrored():\n",
    "    from hops import tensorboard\n",
    "    assert tensorboard.logdir() != None\n",
    "    from hops import devices\n",
    "    assert devices.get_num_gpus() >= 0\n",
    "    \n",
    "experiment.mirrored(mirrored, local_logdir=False)\n",
    "experiment.mirrored(mirrored, local_logdir=True)\n",
    "experiment.mirrored(mirrored, name='mirrortime', description='such desc')\n",
    "experiment.mirrored(mirrored)"
   ]
  },
  {
   "cell_type": "markdown",
   "metadata": {},
   "source": [
    "Test Distributed Training CollectiveAllReduceStrategy (This may fail if not configured CollectiveAllReduceStrategy)"
   ]
  },
  {
   "cell_type": "code",
   "execution_count": null,
   "metadata": {},
   "outputs": [],
   "source": [
    "def collective():\n",
    "    import os\n",
    "    assert 'TF_CONFIG' in os.environ\n",
    "    from hops import devices\n",
    "    assert devices.get_num_gpus() >= 0\n",
    "    \n",
    "experiment.collective_all_reduce(collective, local_logdir=False)\n",
    "experiment.collective_all_reduce(collective, local_logdir=True)\n",
    "experiment.collective_all_reduce(collective, name='mirrortime', description='such desc')\n",
    "experiment.collective_all_reduce(collective)"
   ]
  },
  {
   "cell_type": "markdown",
   "metadata": {},
   "source": [
    "Test Distributed Training ParameterServerStrategy (This may fail if not configured ParameterServerStrategy)"
   ]
  },
  {
   "cell_type": "code",
   "execution_count": null,
   "metadata": {},
   "outputs": [],
   "source": [
    "def ps():\n",
    "    import os\n",
    "    assert 'TF_CONFIG' in os.environ\n",
    "    from hops import devices\n",
    "    assert devices.get_num_gpus() >= 0\n",
    "    \n",
    "experiment.parameter_server(ps, local_logdir=False)\n",
    "experiment.parameter_server(ps, local_logdir=True)\n",
    "experiment.parameter_server(ps, name='mirrortime', description='such desc')\n",
    "experiment.parameter_server(ps)"
   ]
  },
  {
   "cell_type": "code",
   "execution_count": null,
   "metadata": {},
   "outputs": [],
   "source": [
    "print(\"omg git working 10BN valuation\")"
   ]
  }
 ],
 "metadata": {
  "kernelspec": {
   "display_name": "python-omggggggggg__meb10000",
   "language": "python",
   "name": "python3"
  },
  "language_info": {
   "codemirror_mode": {
    "name": "ipython",
    "version": 3
   },
   "file_extension": ".py",
   "mimetype": "text/x-python",
   "name": "python",
   "nbconvert_exporter": "python",
   "pygments_lexer": "ipython3",
   "version": "3.6.9"
  }
 },
 "nbformat": 4,
 "nbformat_minor": 4
}
